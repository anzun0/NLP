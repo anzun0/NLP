{
 "cells": [
  {
   "cell_type": "code",
   "execution_count": 95,
   "id": "7a9cb78e",
   "metadata": {},
   "outputs": [],
   "source": [
    "import pandas as pd\n",
    "import numpy as np\n",
    "%matplotlib inline\n",
    "import matplotlib.pyplot as plt\n",
    "import re\n",
    "import urllib.request\n",
    "from konlpy.tag import Okt\n",
    "from tensorflow.keras.preprocessing.text import Tokenizer\n",
    "from tensorflow.keras.preprocessing.sequence import pad_sequences"
   ]
  },
  {
   "cell_type": "code",
   "execution_count": 96,
   "id": "f937b22f",
   "metadata": {},
   "outputs": [],
   "source": [
    "import koco\n",
    "data = koco.load_dataset('korean-hate-speech', mode='train_dev')\n",
    "\n",
    "train_data = data[\"train\"][0:3000]\n",
    "test_data = data[\"train\"][3000:6000]\n",
    "\n",
    "train_data = pd.DataFrame(train_data,\n",
    "                    columns=['comments', 'contain_gender_bias', 'bias', 'hate', 'news_title'])\n",
    "\n",
    "test_data = pd.DataFrame(test_data,\n",
    "                    columns=['comments', 'contain_gender_bias', 'bias', 'hate', 'news_title'])"
   ]
  },
  {
   "cell_type": "code",
   "execution_count": 97,
   "id": "7e2b6293",
   "metadata": {},
   "outputs": [],
   "source": [
    "train_data.replace('none', 0, inplace=True)\n",
    "train_data.replace('hate', 1, inplace=True)\n",
    "train_data.replace('offensive', 1, inplace=True)\n",
    "\n",
    "test_data.replace('none', 0, inplace=True)\n",
    "test_data.replace('hate', 1, inplace=True)\n",
    "test_data.replace('offensive', 1, inplace=True)"
   ]
  },
  {
   "cell_type": "code",
   "execution_count": 98,
   "id": "5aba52eb",
   "metadata": {},
   "outputs": [
    {
     "name": "stderr",
     "output_type": "stream",
     "text": [
      "/Users/ajyng/anaconda3/envs/tensorflow/lib/python3.7/site-packages/ipykernel_launcher.py:1: FutureWarning: The default value of regex will change from True to False in a future version.\n",
      "  \"\"\"Entry point for launching an IPython kernel.\n"
     ]
    },
    {
     "data": {
      "text/html": [
       "<div>\n",
       "<style scoped>\n",
       "    .dataframe tbody tr th:only-of-type {\n",
       "        vertical-align: middle;\n",
       "    }\n",
       "\n",
       "    .dataframe tbody tr th {\n",
       "        vertical-align: top;\n",
       "    }\n",
       "\n",
       "    .dataframe thead th {\n",
       "        text-align: right;\n",
       "    }\n",
       "</style>\n",
       "<table border=\"1\" class=\"dataframe\">\n",
       "  <thead>\n",
       "    <tr style=\"text-align: right;\">\n",
       "      <th></th>\n",
       "      <th>comments</th>\n",
       "      <th>contain_gender_bias</th>\n",
       "      <th>bias</th>\n",
       "      <th>hate</th>\n",
       "      <th>news_title</th>\n",
       "    </tr>\n",
       "  </thead>\n",
       "  <tbody>\n",
       "    <tr>\n",
       "      <th>0</th>\n",
       "      <td>현재 호텔주인 심정 아 난 마른하늘에 날벼락맞고 호텔망하게생겼는데 누군 계속 추모받네</td>\n",
       "      <td>False</td>\n",
       "      <td>others</td>\n",
       "      <td>1</td>\n",
       "      <td>\"밤새 조문 행렬…故 전미선, 동료들이 그리워하는 따뜻한 배우 [종합]\"</td>\n",
       "    </tr>\n",
       "    <tr>\n",
       "      <th>1</th>\n",
       "      <td>한국적인 미인의 대표적인 분너무나 곱고아름다운모습그모습뒤의 슬픔을 미처 알지못했네요ㅠ</td>\n",
       "      <td>False</td>\n",
       "      <td>0</td>\n",
       "      <td>0</td>\n",
       "      <td>\"'연중' 故 전미선, 생전 마지막 미공개 인터뷰…환하게 웃는 모습 '먹먹'[종합]\"</td>\n",
       "    </tr>\n",
       "    <tr>\n",
       "      <th>2</th>\n",
       "      <td>못된 넘들남의 고통을 즐겼던 넘들이젠 마땅한 처벌을 받아야지그래야 공정한 사회지심은...</td>\n",
       "      <td>False</td>\n",
       "      <td>0</td>\n",
       "      <td>1</td>\n",
       "      <td>\"[단독] 잔나비, 라디오 출연 취소→'한밤' 방송 연기..비판 여론 ing(종합)\"</td>\n",
       "    </tr>\n",
       "    <tr>\n",
       "      <th>3</th>\n",
       "      <td>화 어설펐는데 화 지나서부터는 갈수록 너무 재밌던데</td>\n",
       "      <td>False</td>\n",
       "      <td>0</td>\n",
       "      <td>0</td>\n",
       "      <td>\"'아스달 연대기' 장동건-김옥빈, 들끓는 '욕망커플'→눈물범벅 '칼끝 대립'\"</td>\n",
       "    </tr>\n",
       "    <tr>\n",
       "      <th>4</th>\n",
       "      <td>사람 얼굴 손톱으로 긁은것은 인격살해이고 동영상이 몰카냐 메걸리안들 생각이 없노</td>\n",
       "      <td>True</td>\n",
       "      <td>gender</td>\n",
       "      <td>1</td>\n",
       "      <td>[DA:이슈] ‘구하라 비보’ 최종범 항소심에 영향?…법조계 “‘공소권 없음’ 아냐”</td>\n",
       "    </tr>\n",
       "  </tbody>\n",
       "</table>\n",
       "</div>"
      ],
      "text/plain": [
       "                                            comments  contain_gender_bias  \\\n",
       "0    현재 호텔주인 심정 아 난 마른하늘에 날벼락맞고 호텔망하게생겼는데 누군 계속 추모받네                False   \n",
       "1    한국적인 미인의 대표적인 분너무나 곱고아름다운모습그모습뒤의 슬픔을 미처 알지못했네요ㅠ                False   \n",
       "2  못된 넘들남의 고통을 즐겼던 넘들이젠 마땅한 처벌을 받아야지그래야 공정한 사회지심은...                False   \n",
       "3                       화 어설펐는데 화 지나서부터는 갈수록 너무 재밌던데                False   \n",
       "4       사람 얼굴 손톱으로 긁은것은 인격살해이고 동영상이 몰카냐 메걸리안들 생각이 없노                 True   \n",
       "\n",
       "     bias  hate                                       news_title  \n",
       "0  others     1         \"밤새 조문 행렬…故 전미선, 동료들이 그리워하는 따뜻한 배우 [종합]\"  \n",
       "1       0     0  \"'연중' 故 전미선, 생전 마지막 미공개 인터뷰…환하게 웃는 모습 '먹먹'[종합]\"  \n",
       "2       0     1  \"[단독] 잔나비, 라디오 출연 취소→'한밤' 방송 연기..비판 여론 ing(종합)\"  \n",
       "3       0     0     \"'아스달 연대기' 장동건-김옥빈, 들끓는 '욕망커플'→눈물범벅 '칼끝 대립'\"  \n",
       "4  gender     1  [DA:이슈] ‘구하라 비보’ 최종범 항소심에 영향?…법조계 “‘공소권 없음’ 아냐”  "
      ]
     },
     "execution_count": 98,
     "metadata": {},
     "output_type": "execute_result"
    }
   ],
   "source": [
    "train_data['comments'] = train_data['comments'].str.replace(\"[^ㄱ-ㅎㅏ-ㅣ가-힣 ]\",\"\")\n",
    "# 한글과 공백을 제외하고 모두 제거\n",
    "train_data[:5]"
   ]
  },
  {
   "cell_type": "code",
   "execution_count": 99,
   "id": "387a89ba",
   "metadata": {},
   "outputs": [
    {
     "name": "stdout",
     "output_type": "stream",
     "text": [
      "comments               0\n",
      "contain_gender_bias    0\n",
      "bias                   0\n",
      "hate                   0\n",
      "news_title             0\n",
      "dtype: int64\n"
     ]
    },
    {
     "name": "stderr",
     "output_type": "stream",
     "text": [
      "/Users/ajyng/anaconda3/envs/tensorflow/lib/python3.7/site-packages/ipykernel_launcher.py:1: FutureWarning: The default value of regex will change from True to False in a future version.\n",
      "  \"\"\"Entry point for launching an IPython kernel.\n"
     ]
    }
   ],
   "source": [
    "train_data['comments'] = train_data['comments'].str.replace('^ +', \"\") # white space 데이터를 empty value로 변경\n",
    "train_data['comments'].replace('', np.nan, inplace=True)\n",
    "print(train_data.isnull().sum())"
   ]
  },
  {
   "cell_type": "code",
   "execution_count": 100,
   "id": "6cb89a2c",
   "metadata": {},
   "outputs": [
    {
     "name": "stdout",
     "output_type": "stream",
     "text": [
      "comments               0\n",
      "contain_gender_bias    0\n",
      "bias                   0\n",
      "hate                   0\n",
      "news_title             0\n",
      "dtype: int64\n"
     ]
    },
    {
     "name": "stderr",
     "output_type": "stream",
     "text": [
      "/Users/ajyng/anaconda3/envs/tensorflow/lib/python3.7/site-packages/ipykernel_launcher.py:1: FutureWarning: The default value of regex will change from True to False in a future version.\n",
      "  \"\"\"Entry point for launching an IPython kernel.\n",
      "/Users/ajyng/anaconda3/envs/tensorflow/lib/python3.7/site-packages/ipykernel_launcher.py:2: FutureWarning: The default value of regex will change from True to False in a future version.\n",
      "  \n"
     ]
    }
   ],
   "source": [
    "test_data['comments'] = test_data['comments'].str.replace(\"[^ㄱ-ㅎㅏ-ㅣ가-힣 ]\",\"\") # 정규 표현식 수행\n",
    "test_data['comments'] = test_data['comments'].str.replace('^ +', \"\") # 공백은 empty 값으로 변경\n",
    "print(test_data.isnull().sum())"
   ]
  },
  {
   "cell_type": "code",
   "execution_count": 101,
   "id": "add86304",
   "metadata": {},
   "outputs": [],
   "source": [
    "stopwords = ['의','가','이','은','들','는','좀','잘','걍','과','도','를','으로','자','에','와','한','하다']\n",
    "\n",
    "okt = Okt()"
   ]
  },
  {
   "cell_type": "code",
   "execution_count": 102,
   "id": "617bf9ad",
   "metadata": {},
   "outputs": [],
   "source": [
    "X_train = []\n",
    "for sentence in train_data['comments']:\n",
    "    temp_X = okt.morphs(sentence, stem=True) # 토큰화\n",
    "    temp_X = [word for word in temp_X if not word in stopwords] # 불용어 제거\n",
    "    X_train.append(temp_X)"
   ]
  },
  {
   "cell_type": "code",
   "execution_count": 103,
   "id": "f7a08652",
   "metadata": {},
   "outputs": [
    {
     "name": "stdout",
     "output_type": "stream",
     "text": [
      "[['현재', '호텔', '주인', '심정', '아', '난', '마른하늘', '날벼락', '맞다', '호텔', '망하다', '생기다', '누', '군', '계속', '추모', '받다'], ['한국', '적', '인', '미인', '대표', '적', '인', '분', '너무나', '곱', '고', '아름답다', '모습', '그', '모습', '뒤', '슬픔', '을', '미처', '알다', 'ㅠ'], ['못', '되다', '넘다', '들다', '남', '고통', '을', '즐기다', '넘다', '들이다', '젠', '마땅하다', '처벌', '을', '받다', '그', '래야', '공정하다', '사회', '지', '심다', '거두다']]\n"
     ]
    }
   ],
   "source": [
    "print(X_train[:3])"
   ]
  },
  {
   "cell_type": "code",
   "execution_count": 104,
   "id": "448d60b4",
   "metadata": {},
   "outputs": [],
   "source": [
    "X_test = []\n",
    "for sentence in test_data['comments']:\n",
    "    temp_X = okt.morphs(sentence, stem=True) # 토큰화\n",
    "    temp_X = [word for word in temp_X if not word in stopwords] # 불용어 제거\n",
    "    X_test.append(temp_X)"
   ]
  },
  {
   "cell_type": "code",
   "execution_count": 105,
   "id": "ad616ac7",
   "metadata": {},
   "outputs": [
    {
     "name": "stdout",
     "output_type": "stream",
     "text": [
      "[['범죄', '범죄인', '줄', '모르다', 'ㅈㄹ', '뜨다', '놈', '이나', '남자', '무데기', '로', '있다', '호텔', '방가', '서', 'ㅊ', '먹다', 'ㄴ', '이나', '혀', '저런', 'ㄴ', '들다', '만나다', '결혼', '하', '면', '인생', '망치다'], ['법대', '로', '처리', '해주다', '제발', '일벌', '백', '계', '보여주다', '태국', '형벌', '중', '태형', '있다', '는걸', '로', '알다'], ['법', '부터가', '지', '롤', '이네', '법안', '똑바로', '안', '만들다', '국', '개', '의원']]\n"
     ]
    }
   ],
   "source": [
    "print(X_test[:3])"
   ]
  },
  {
   "cell_type": "code",
   "execution_count": 106,
   "id": "0df5efbb",
   "metadata": {},
   "outputs": [],
   "source": [
    "tokenizer = Tokenizer()\n",
    "tokenizer.fit_on_texts(X_train)"
   ]
  },
  {
   "cell_type": "code",
   "execution_count": 107,
   "id": "e6a1904c",
   "metadata": {},
   "outputs": [
    {
     "name": "stdout",
     "output_type": "stream",
     "text": [
      "단어 집합(vocabulary)의 크기 : 7165\n",
      "등장 빈도가 2번 이하인 희귀 단어의 수: 5021\n",
      "단어 집합에서 희귀 단어의 비율: 70.07676203768318\n",
      "전체 등장 빈도에서 희귀 단어 등장 빈도 비율: 16.96927951508472\n"
     ]
    }
   ],
   "source": [
    "threshold = 3\n",
    "total_cnt = len(tokenizer.word_index) # 단어의 수\n",
    "rare_cnt = 0 # 등장 빈도수가 threshold보다 작은 단어의 개수를 카운트\n",
    "total_freq = 0 # 훈련 데이터의 전체 단어 빈도수 총 합\n",
    "rare_freq = 0 # 등장 빈도수가 threshold보다 작은 단어의 등장 빈도수의 총 합\n",
    "\n",
    "# 단어와 빈도수의 쌍(pair)을 key와 value로 받는다.\n",
    "for key, value in tokenizer.word_counts.items():\n",
    "    total_freq = total_freq + value\n",
    "\n",
    "    # 단어의 등장 빈도수가 threshold보다 작으면\n",
    "    if(value < threshold):\n",
    "        rare_cnt = rare_cnt + 1\n",
    "        rare_freq = rare_freq + value\n",
    "\n",
    "print('단어 집합(vocabulary)의 크기 :',total_cnt)\n",
    "print('등장 빈도가 %s번 이하인 희귀 단어의 수: %s'%(threshold - 1, rare_cnt))\n",
    "print(\"단어 집합에서 희귀 단어의 비율:\", (rare_cnt / total_cnt)*100)\n",
    "print(\"전체 등장 빈도에서 희귀 단어 등장 빈도 비율:\", (rare_freq / total_freq)*100)"
   ]
  },
  {
   "cell_type": "code",
   "execution_count": 108,
   "id": "fb64bf90",
   "metadata": {},
   "outputs": [
    {
     "name": "stdout",
     "output_type": "stream",
     "text": [
      "단어 집합의 크기 : 2145\n"
     ]
    }
   ],
   "source": [
    "# 전체 단어 개수 중 빈도수 2이하인 단어는 제거.\n",
    "# 0번 패딩 토큰을 고려하여 + 1\n",
    "vocab_size = total_cnt - rare_cnt + 1\n",
    "print('단어 집합의 크기 :',vocab_size)"
   ]
  },
  {
   "cell_type": "code",
   "execution_count": 109,
   "id": "ef0760c8",
   "metadata": {},
   "outputs": [],
   "source": [
    "tokenizer = Tokenizer(vocab_size) \n",
    "tokenizer.fit_on_texts(X_train)\n",
    "X_train = tokenizer.texts_to_sequences(X_train)\n",
    "X_test = tokenizer.texts_to_sequences(X_test)"
   ]
  },
  {
   "cell_type": "code",
   "execution_count": 110,
   "id": "30557e1b",
   "metadata": {},
   "outputs": [],
   "source": [
    "y_train = np.array(train_data['hate'])\n",
    "y_test = np.array(test_data['hate'])"
   ]
  },
  {
   "cell_type": "code",
   "execution_count": 111,
   "id": "87e96a1c",
   "metadata": {},
   "outputs": [],
   "source": [
    "drop_train = [index for index, sentence in enumerate(X_train) if len(sentence) < 1]"
   ]
  },
  {
   "cell_type": "code",
   "execution_count": 112,
   "id": "0ec98240",
   "metadata": {},
   "outputs": [
    {
     "name": "stdout",
     "output_type": "stream",
     "text": [
      "2992\n",
      "2992\n"
     ]
    },
    {
     "name": "stderr",
     "output_type": "stream",
     "text": [
      "/Users/ajyng/anaconda3/envs/tensorflow/lib/python3.7/site-packages/numpy/core/_asarray.py:83: VisibleDeprecationWarning: Creating an ndarray from ragged nested sequences (which is a list-or-tuple of lists-or-tuples-or ndarrays with different lengths or shapes) is deprecated. If you meant to do this, you must specify 'dtype=object' when creating the ndarray\n",
      "  return array(a, dtype, copy=False, order=order)\n"
     ]
    }
   ],
   "source": [
    "X_train = np.delete(X_train, drop_train, axis=0)\n",
    "y_train = np.delete(y_train, drop_train, axis=0)\n",
    "print(len(X_train))\n",
    "print(len(y_train))"
   ]
  },
  {
   "cell_type": "code",
   "execution_count": 113,
   "id": "a2a4308b",
   "metadata": {},
   "outputs": [
    {
     "name": "stdout",
     "output_type": "stream",
     "text": [
      "리뷰의 최대 길이 : 39\n",
      "리뷰의 평균 길이 : 10.072192513368984\n"
     ]
    },
    {
     "data": {
      "image/png": "[encoded data removed]",
      "text/plain": [
       "<Figure size 432x288 with 1 Axes>"
      ]
     },
     "metadata": {
      "needs_background": "light"
     },
     "output_type": "display_data"
    }
   ],
   "source": [
    "print('리뷰의 최대 길이 :',max(len(l) for l in X_train))\n",
    "print('리뷰의 평균 길이 :',sum(map(len, X_train))/len(X_train))\n",
    "plt.hist([len(s) for s in X_train], bins=50)\n",
    "plt.xlabel('length of samples')\n",
    "plt.ylabel('number of samples')\n",
    "plt.show()"
   ]
  },
  {
   "cell_type": "code",
   "execution_count": 114,
   "id": "89783ea3",
   "metadata": {},
   "outputs": [],
   "source": [
    "def below_threshold_len(max_len, nested_list):\n",
    "  cnt = 0\n",
    "  for s in nested_list:\n",
    "    if(len(s) <= max_len):\n",
    "        cnt = cnt + 1\n",
    "  print('전체 샘플 중 길이가 %s 이하인 샘플의 비율: %s'%(max_len, (cnt / len(nested_list))*100))"
   ]
  },
  {
   "cell_type": "code",
   "execution_count": 115,
   "id": "44c872ba",
   "metadata": {},
   "outputs": [
    {
     "name": "stdout",
     "output_type": "stream",
     "text": [
      "전체 샘플 중 길이가 30 이하인 샘플의 비율: 97.89438502673798\n"
     ]
    }
   ],
   "source": [
    "max_len = 30\n",
    "below_threshold_len(max_len, X_train)"
   ]
  },
  {
   "cell_type": "code",
   "execution_count": 116,
   "id": "af6a2b06",
   "metadata": {},
   "outputs": [],
   "source": [
    "X_train = pad_sequences(X_train, maxlen = max_len)\n",
    "X_test = pad_sequences(X_test, maxlen = max_len)"
   ]
  },
  {
   "cell_type": "code",
   "execution_count": 117,
   "id": "c329ec14",
   "metadata": {},
   "outputs": [],
   "source": [
    "from tensorflow.keras.layers import Embedding, Dense, LSTM\n",
    "from tensorflow.keras.models import Sequential\n",
    "from tensorflow.keras.models import load_model\n",
    "from tensorflow.keras.callbacks import EarlyStopping, ModelCheckpoint"
   ]
  },
  {
   "cell_type": "code",
   "execution_count": 118,
   "id": "b4925f3a",
   "metadata": {},
   "outputs": [],
   "source": [
    "model = Sequential()\n",
    "model.add(Embedding(vocab_size, 100))\n",
    "model.add(LSTM(128))\n",
    "model.add(Dense(1, activation='sigmoid'))"
   ]
  },
  {
   "cell_type": "code",
   "execution_count": 119,
   "id": "832bab4b",
   "metadata": {},
   "outputs": [],
   "source": [
    "es = EarlyStopping(monitor='val_loss', mode='min', verbose=1, patience=4)\n",
    "mc = ModelCheckpoint('best_model.h5', monitor='val_acc', mode='max', verbose=1, save_best_only=True)"
   ]
  },
  {
   "cell_type": "code",
   "execution_count": 120,
   "id": "838d9298",
   "metadata": {},
   "outputs": [
    {
     "name": "stdout",
     "output_type": "stream",
     "text": [
      "Train on 2393 samples, validate on 599 samples\n",
      "Epoch 1/15\n",
      "2340/2393 [============================>.] - ETA: 0s - loss: 0.6500 - acc: 0.6120\n",
      "Epoch 00001: val_acc improved from -inf to 0.68114, saving model to best_model.h5\n",
      "2393/2393 [==============================] - 9s 4ms/sample - loss: 0.6498 - acc: 0.6109 - val_loss: 0.5943 - val_acc: 0.6811\n",
      "Epoch 2/15\n",
      "2340/2393 [============================>.] - ETA: 0s - loss: 0.5183 - acc: 0.7551\n",
      "Epoch 00002: val_acc improved from 0.68114 to 0.68447, saving model to best_model.h5\n",
      "2393/2393 [==============================] - 5s 2ms/sample - loss: 0.5157 - acc: 0.7580 - val_loss: 0.5787 - val_acc: 0.6845\n",
      "Epoch 3/15\n",
      "2340/2393 [============================>.] - ETA: 0s - loss: 0.4014 - acc: 0.8291\n",
      "Epoch 00003: val_acc did not improve from 0.68447\n",
      "2393/2393 [==============================] - 6s 2ms/sample - loss: 0.3998 - acc: 0.8299 - val_loss: 0.6195 - val_acc: 0.6845\n",
      "Epoch 4/15\n",
      "2340/2393 [============================>.] - ETA: 0s - loss: 0.3307 - acc: 0.8637\n",
      "Epoch 00004: val_acc did not improve from 0.68447\n",
      "2393/2393 [==============================] - 5s 2ms/sample - loss: 0.3325 - acc: 0.8625 - val_loss: 0.6496 - val_acc: 0.6711\n",
      "Epoch 5/15\n",
      "2340/2393 [============================>.] - ETA: 0s - loss: 0.2731 - acc: 0.8859\n",
      "Epoch 00005: val_acc did not improve from 0.68447\n",
      "2393/2393 [==============================] - 5s 2ms/sample - loss: 0.2741 - acc: 0.8855 - val_loss: 0.7086 - val_acc: 0.6761\n",
      "Epoch 6/15\n",
      "2340/2393 [============================>.] - ETA: 0s - loss: 0.2435 - acc: 0.9026\n",
      "Epoch 00006: val_acc did not improve from 0.68447\n",
      "2393/2393 [==============================] - 5s 2ms/sample - loss: 0.2461 - acc: 0.9001 - val_loss: 0.7872 - val_acc: 0.6594\n",
      "Epoch 00006: early stopping\n"
     ]
    }
   ],
   "source": [
    "model.compile(optimizer='rmsprop', loss='binary_crossentropy', metrics=['acc'])\n",
    "history = model.fit(X_train, y_train, epochs=15, callbacks=[es, mc], batch_size=60, validation_split=0.2)"
   ]
  },
  {
   "cell_type": "code",
   "execution_count": 121,
   "id": "da345c5c",
   "metadata": {},
   "outputs": [
    {
     "name": "stdout",
     "output_type": "stream",
     "text": [
      "3000/3000 [==============================] - 3s 916us/sample - loss: 0.5841 - acc: 0.6933\n",
      "\n",
      " 테스트 정확도: 0.6933\n"
     ]
    }
   ],
   "source": [
    "loaded_model = load_model('best_model.h5')"
   ]
  },
  {
   "cell_type": "code",
   "execution_count": 124,
   "id": "5530e71b",
   "metadata": {},
   "outputs": [
    {
     "name": "stdout",
     "output_type": "stream",
     "text": [
      "3000/3000 [==============================] - 6s 2ms/sample - loss: 0.5841 - acc: 0.6933\n",
      "\n",
      " 테스트 정확도: 0.6933\n"
     ]
    }
   ],
   "source": [
    "print(\"\\n 테스트 정확도: %.4f\" % (loaded_model.evaluate(X_test, y_test)[1]))"
   ]
  },
  {
   "cell_type": "code",
   "execution_count": 122,
   "id": "b2238e62",
   "metadata": {},
   "outputs": [],
   "source": [
    "def sentiment_predict(new_sentence):\n",
    "  new_sentence = okt.morphs(new_sentence, stem=True)\n",
    "  new_sentence = [word for word in new_sentence if not word in stopwords]\n",
    "  encoded = tokenizer.texts_to_sequences([new_sentence])\n",
    "  pad_new = pad_sequences(encoded, maxlen = max_len)\n",
    "  score = float(loaded_model.predict(pad_new))\n",
    "  if(score > 0.5):\n",
    "    print(\"{:.2f}% 확률로 긍정 댓글입니다.\\n\".format(score * 100))\n",
    "  else:\n",
    "    print(\"{:.2f}% 확률로 부정 댓글입니다.\\n\".format((1 - score) * 100))"
   ]
  },
  {
   "cell_type": "code",
   "execution_count": 166,
   "id": "2041d075",
   "metadata": {},
   "outputs": [
    {
     "name": "stdout",
     "output_type": "stream",
     "text": [
      "50.28% 확률로 부정 댓글입니다.\n",
      "\n"
     ]
    }
   ],
   "source": [
    "sentiment_predict('쟤 성형 진짜 잘못된듯.. 얼굴이 이상하네')"
   ]
  },
  {
   "cell_type": "code",
   "execution_count": 167,
   "id": "4ccf0de9",
   "metadata": {},
   "outputs": [
    {
     "name": "stdout",
     "output_type": "stream",
     "text": [
      "67.89% 확률로 긍정 댓글입니다.\n",
      "\n"
     ]
    }
   ],
   "source": [
    "sentiment_predict('ㅋㅋㅋㅋㅋ 아 진짜 웃기다ㅋㅋㅋㅋ')"
   ]
  },
  {
   "cell_type": "code",
   "execution_count": 168,
   "id": "da1a52df",
   "metadata": {},
   "outputs": [
    {
     "name": "stdout",
     "output_type": "stream",
     "text": [
      "57.57% 확률로 부정 댓글입니다.\n",
      "\n"
     ]
    }
   ],
   "source": [
    "sentiment_predict('연예인 그만 둬라')"
   ]
  },
  {
   "cell_type": "code",
   "execution_count": 169,
   "id": "015b8c4e",
   "metadata": {},
   "outputs": [
    {
     "name": "stdout",
     "output_type": "stream",
     "text": [
      "56.22% 확률로 긍정 댓글입니다.\n",
      "\n"
     ]
    }
   ],
   "source": [
    "sentiment_predict('여기 치킨집 진짜 맛있어요')"
   ]
  },
  {
   "cell_type": "code",
   "execution_count": null,
   "id": "ab5396ee",
   "metadata": {},
   "outputs": [],
   "source": []
  }
 ],
 "metadata": {
  "kernelspec": {
   "display_name": "Python 3",
   "language": "python",
   "name": "python3"
  },
  "language_info": {
   "codemirror_mode": {
    "name": "ipython",
    "version": 3
   },
   "file_extension": ".py",
   "mimetype": "text/x-python",
   "name": "python",
   "nbconvert_exporter": "python",
   "pygments_lexer": "ipython3",
   "version": "3.7.10"
  }
 },
 "nbformat": 4,
 "nbformat_minor": 5
}
